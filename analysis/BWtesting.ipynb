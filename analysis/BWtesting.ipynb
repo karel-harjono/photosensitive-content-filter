{
 "cells": [
  {
   "cell_type": "code",
   "execution_count": null,
   "id": "d72449b0",
   "metadata": {},
   "outputs": [],
   "source": [
    "import cv2\n",
    "import matplotlib.pyplot as plt\n",
    "import numpy as np\n",
    "import pandas as pd"
   ]
  },
  {
   "cell_type": "code",
   "execution_count": null,
   "id": "d9fb7038",
   "metadata": {},
   "outputs": [],
   "source": [
    "def analyze_video(path):\n",
    "    cap = cv2.VideoCapture(path)\n",
    "    # Check if camera opened successfully\n",
    "    if (cap.isOpened()== False): \n",
    "        print(\"Error opening video stream or file\")\n",
    "\n",
    "    timestamp = 0\n",
    "    mean_intensity = []\n",
    "    # Read until video is completed\n",
    "    while(cap.isOpened()):\n",
    "        # Capture frame-by-frame\n",
    "        ret, frame = cap.read()\n",
    "        if ret == True:\n",
    "            gray = cv2.cvtColor(frame, cv2.COLOR_BGR2GRAY)\n",
    "            mean_intensity.append(cv2.mean(gray)[0]) # grayscale is one dimensional so take the first element\n",
    "            # Display the resulting frame\n",
    "            # cv2.imshow('Frame',frame)\n",
    "\n",
    "            # Press Q on keyboard to  exit\n",
    "            # if cv2.waitKey(25) & 0xFF == ord('q'):\n",
    "            #   break\n",
    "            timestamp = timestamp + 1\n",
    "        # Break the loop\n",
    "        else: \n",
    "            break\n",
    "    metadata = {\n",
    "        'frame_count': cap.get(cv2.CAP_PROP_FRAME_COUNT),\n",
    "        'fps': cap.get(cv2.CAP_PROP_FPS),\n",
    "        'frame_width': cap.get(cv2.CAP_PROP_FRAME_WIDTH),   # float `width`\n",
    "        'frame_height': cap.get(cv2.CAP_PROP_FRAME_HEIGHT)  # float `height`\n",
    "    }\n",
    "    # When everything done, release the video capture object\n",
    "    cap.release()\n",
    "\n",
    "    # Closes all the frames\n",
    "    cv2.destroyAllWindows()\n",
    "\n",
    "    return [range(1, timestamp+1), mean_intensity, metadata]\n",
    "\n",
    "def show(x, y, xlabel, ylabel, start=None, end=None):\n",
    "    fig, ax = plt.subplots()\n",
    "    ax.plot(x[start:end], y[start:end])\n",
    "    ax.set_xlabel(xlabel)\n",
    "    ax.set_ylabel(ylabel)\n",
    "    plt.show()"
   ]
  },
  {
   "cell_type": "code",
   "execution_count": null,
   "id": "84bc3c1b",
   "metadata": {},
   "outputs": [],
   "source": [
    "# plot mean gray intensity to frames\n",
    "x, y, metadata = analyze_video('../videos/pokemon_deleted_scene.mp4')\n",
    "show(x, y, 'frames', 'mean intensity(0-255)')"
   ]
  }
 ],
 "metadata": {
  "kernelspec": {
   "display_name": "Python 3 (ipykernel)",
   "language": "python",
   "name": "python3"
  },
  "language_info": {
   "codemirror_mode": {
    "name": "ipython",
    "version": 3
   },
   "file_extension": ".py",
   "mimetype": "text/x-python",
   "name": "python",
   "nbconvert_exporter": "python",
   "pygments_lexer": "ipython3",
   "version": "3.9.12"
  }
 },
 "nbformat": 4,
 "nbformat_minor": 5
}
