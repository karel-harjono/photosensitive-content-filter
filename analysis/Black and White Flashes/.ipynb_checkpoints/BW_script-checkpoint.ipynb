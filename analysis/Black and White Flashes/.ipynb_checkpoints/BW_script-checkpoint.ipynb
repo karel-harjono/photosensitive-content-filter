{
 "cells": [
  {
   "cell_type": "code",
   "execution_count": null,
   "id": "dd106e16",
   "metadata": {},
   "outputs": [],
   "source": [
    "import cv2\n",
    "import matplotlib.pyplot as plt\n",
    "import numpy as np\n",
    "import pandas as pd\n",
    "import math "
   ]
  },
  {
   "cell_type": "code",
   "execution_count": null,
   "id": "f3732a80",
   "metadata": {},
   "outputs": [],
   "source": [
    "## get metadata of the video\n",
    "def analyze_video(path):\n",
    "    cap = cv2.VideoCapture(path)\n",
    "    # Check if camera opened successfully\n",
    "    if (cap.isOpened()== False): \n",
    "        print(\"Error opening video stream or file\")\n",
    "\n",
    "    timestamp = 0\n",
    "    mean_intensity = []\n",
    "    # Read until video is completed\n",
    "    while(cap.isOpened()):\n",
    "        # Capture frame-by-frame\n",
    "        ret, frame = cap.read()\n",
    "        if ret == True:\n",
    "            gray = cv2.cvtColor(frame, cv2.COLOR_BGR2GRAY)\n",
    "            mean_intensity.append(cv2.mean(gray)[0]) # grayscale is one dimensional so take the first element\n",
    "            # Display the resulting frame\n",
    "            # cv2.imshow('Frame',frame)\n",
    "\n",
    "            # Press Q on keyboard to  exit\n",
    "            # if cv2.waitKey(25) & 0xFF == ord('q'):\n",
    "            #   break\n",
    "            timestamp = timestamp + 1\n",
    "        # Break the loop\n",
    "        else: \n",
    "            break\n",
    "    metadata = {\n",
    "        'frame_count': cap.get(cv2.CAP_PROP_FRAME_COUNT),\n",
    "        'fps': cap.get(cv2.CAP_PROP_FPS),\n",
    "        'frame_width': cap.get(cv2.CAP_PROP_FRAME_WIDTH),   # float `width`\n",
    "        'frame_height': cap.get(cv2.CAP_PROP_FRAME_HEIGHT)  # float `height`\n",
    "    }\n",
    "    # When everything done, release the video capture object\n",
    "    cap.release()\n",
    "\n",
    "    # Closes all the frames\n",
    "    cv2.destroyAllWindows()\n",
    "\n",
    "    return [range(1, timestamp+1), mean_intensity, metadata]"
   ]
  },
  {
   "cell_type": "code",
   "execution_count": null,
   "id": "4f001a00",
   "metadata": {},
   "outputs": [],
   "source": [
    "## flashes tuning method\n",
    "diff = []\n",
    "for i in range(len(y)-1):\n",
    "    diff.append(1 if abs(y[i] - y[i+1]) > 200 else 0) # TODO: figure out tuning metrics\n",
    "diff.append(0) # adjust shape for plotting\n"
   ]
  },
  {
   "cell_type": "code",
   "execution_count": null,
   "id": "ebde8b5e",
   "metadata": {},
   "outputs": [],
   "source": [
    "def detectUnsafeFlashesFrame(intensity, fps, max_flashes=3):\n",
    "    warning_count = 0\n",
    "    count = 0\n",
    "    ## added count to show all flashes within the video in a 5 frame range\n",
    "    for i in range(len(intensity) - fps):\n",
    "        num_flash = np.sum(intensity[i:i+fps])\n",
    "        if(num_flash > max_flashes and count == 0):\n",
    "            print(f\"{num_flash} flashes detected at seconds: {math.ceil(i/30)+1}\")\n",
    "            warning_count = warning_count + 1                \n",
    "        count = count + 1\n",
    "        if(count >= fps) : count = 0        \n",
    "    return warning_count, i\n",
    "\n",
    "detectUnsafeFlashesFrame(diff, int(metadata['fps']), max_flashes=5)"
   ]
  }
 ],
 "metadata": {
  "kernelspec": {
   "display_name": "Python 3 (ipykernel)",
   "language": "python",
   "name": "python3"
  },
  "language_info": {
   "codemirror_mode": {
    "name": "ipython",
    "version": 3
   },
   "file_extension": ".py",
   "mimetype": "text/x-python",
   "name": "python",
   "nbconvert_exporter": "python",
   "pygments_lexer": "ipython3",
   "version": "3.10.7"
  }
 },
 "nbformat": 4,
 "nbformat_minor": 5
}
